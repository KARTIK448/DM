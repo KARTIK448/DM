{
 "cells": [
  {
   "cell_type": "code",
   "execution_count": null,
   "id": "148c3a32",
   "metadata": {},
   "outputs": [
    {
     "name": "stdout",
     "output_type": "stream",
     "text": [
      "   age  total_spend  frequency plan_type  user_class\n",
      "0   56  1077.815386         22  Standard  Subscriber\n",
      "1   69  1848.843101         12     Basic    Customer\n",
      "2   46   479.871901         26   Premium    Customer\n",
      "3   32  1522.311264          4   Premium    Customer\n",
      "4   60  1067.218850          5  Standard    Customer\n"
     ]
    }
   ],
   "source": [
    "import numpy as np\n",
    "import pandas as pd\n",
    "\n",
    "# Set a random seed for reproducibility\n",
    "np.random.seed(42)\n",
    "\n",
    "# Number of samples\n",
    "n_samples = 1000\n",
    "\n",
    "# Generate synthetic features with more realistic values\n",
    "# Age between 18 and 70\n",
    "age = np.random.randint(18, 71, size=n_samples)\n",
    "\n",
    "# Total spend between $10 and $2000\n",
    "total_spend = np.random.uniform(10, 2000, size=n_samples)\n",
    "\n",
    "# Frequency between 1 and 30 (number of interactions or purchases per month)\n",
    "frequency = np.random.randint(1, 31, size=n_samples)\n",
    "\n",
    "# Plan type: random selection between 'Basic', 'Standard', 'Premium'\n",
    "plan_type = np.random.choice(['Basic', 'Standard', 'Premium'], size=n_samples)\n",
    "\n",
    "# Create a target column (Subscriber vs Customer)\n",
    "# 'Subscriber' if total_spend > 500 and frequency > 15\n",
    "# Otherwise, 'Customer'\n",
    "user_class = np.where((total_spend > 500) & (frequency > 15), 'Subscriber', 'Customer')\n",
    "\n",
    "# Combine into a DataFrame\n",
    "data = pd.DataFrame({\n",
    "    'age': age,\n",
    "    'total_spend': total_spend,\n",
    "    'frequency': frequency,\n",
    "    'plan_type': plan_type,\n",
    "    'user_class': user_class\n",
    "})\n",
    "\n",
    "# Save the synthetic dataset to a CSV file\n",
    "data.to_csv('realistic_user_classification.csv', index=False)\n",
    "\n",
    "# Display the first few rows\n",
    "print(data.head())\n"
   ]
  },
  {
   "cell_type": "code",
   "execution_count": 4,
   "id": "a0a24e94",
   "metadata": {},
   "outputs": [
    {
     "name": "stdout",
     "output_type": "stream",
     "text": [
      "Accuracy: 0.9200\n",
      "Precision: 0.9146\n",
      "Recall: 0.8929\n",
      "F1 Score: 0.9036\n"
     ]
    }
   ],
   "source": [
    "import pandas as pd\n",
    "from sklearn.model_selection import train_test_split\n",
    "from sklearn.linear_model import LogisticRegression\n",
    "from sklearn.ensemble import RandomForestClassifier\n",
    "from sklearn.metrics import accuracy_score, precision_score, recall_score, f1_score\n",
    "from sklearn.preprocessing import StandardScaler,LabelEncoder\n",
    "\n",
    "# Load data\n",
    "data = pd.read_csv('realistic_user_classification.csv')  # Replace with your dataset\n",
    "le = LabelEncoder()\n",
    "data['user_class'] = le.fit_transform(data['user_class'])\n",
    "\n",
    "# Feature engineering (example)\n",
    "# Assume 'age', 'total_spend', 'frequency', and 'plan_type' are features\n",
    "data['log_spend'] = data['total_spend'].apply(lambda x: np.log(x + 1))\n",
    "\n",
    "# Define features and target\n",
    "X = data[['age', 'log_spend', 'frequency', 'plan_type']]  # Example features\n",
    "y = data['user_class']  # Target: 'Subscriber' vs 'Customer'\n",
    "\n",
    "# Convert categorical features to numeric (if any)\n",
    "X = pd.get_dummies(X, drop_first=True)\n",
    "\n",
    "# Split data\n",
    "X_train, X_test, y_train, y_test = train_test_split(X, y, test_size=0.2, random_state=42)\n",
    "\n",
    "# Standardize features (optional for some models)\n",
    "scaler = StandardScaler()\n",
    "X_train = scaler.fit_transform(X_train)\n",
    "X_test = scaler.transform(X_test)\n",
    "\n",
    "# Choose a classifier (Logistic Regression, Random Forest, or XGBoost)\n",
    "# Logistic Regression example\n",
    "model = LogisticRegression()\n",
    "# model = RandomForestClassifier(n_estimators=100)  # Uncomment for Random Forest\n",
    "# model = XGBClassifier()  # Uncomment for XGBoost\n",
    "\n",
    "# Train the model\n",
    "model.fit(X_train, y_train)\n",
    "\n",
    "# Predictions\n",
    "y_pred = model.predict(X_test)\n",
    "\n",
    "# Evaluation\n",
    "accuracy = accuracy_score(y_test, y_pred)\n",
    "precision = precision_score(y_test, y_pred, average='binary')\n",
    "recall = recall_score(y_test, y_pred, average='binary')\n",
    "f1 = f1_score(y_test, y_pred, average='binary')\n",
    "\n",
    "# Print the evaluation metrics\n",
    "print(f\"Accuracy: {accuracy:.4f}\")\n",
    "print(f\"Precision: {precision:.4f}\")\n",
    "print(f\"Recall: {recall:.4f}\")\n",
    "print(f\"F1 Score: {f1:.4f}\")"
   ]
  }
 ],
 "metadata": {
  "kernelspec": {
   "display_name": "Python 3",
   "language": "python",
   "name": "python3"
  },
  "language_info": {
   "codemirror_mode": {
    "name": "ipython",
    "version": 3
   },
   "file_extension": ".py",
   "mimetype": "text/x-python",
   "name": "python",
   "nbconvert_exporter": "python",
   "pygments_lexer": "ipython3",
   "version": "3.9.11"
  }
 },
 "nbformat": 4,
 "nbformat_minor": 5
}
