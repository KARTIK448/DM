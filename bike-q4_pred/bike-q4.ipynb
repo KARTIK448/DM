{
 "cells": [
  {
   "cell_type": "code",
   "execution_count": 1,
   "id": "8535d80d",
   "metadata": {},
   "outputs": [
    {
     "name": "stdout",
     "output_type": "stream",
     "text": [
      "[[ 2375  2404     0]\n",
      " [ 2037 16301     0]\n",
      " [    2     1     0]]\n",
      "              precision    recall  f1-score   support\n",
      "\n",
      "      Casual       0.54      0.50      0.52      4779\n",
      "      Member       0.87      0.89      0.88     18338\n",
      "     Unknown       0.00      0.00      0.00         3\n",
      "\n",
      "    accuracy                           0.81     23120\n",
      "   macro avg       0.47      0.46      0.47     23120\n",
      "weighted avg       0.80      0.81      0.80     23120\n",
      "\n"
     ]
    },
    {
     "name": "stderr",
     "output_type": "stream",
     "text": [
      "c:\\Users\\karti\\AppData\\Local\\Programs\\Python\\Python39\\lib\\site-packages\\sklearn\\metrics\\_classification.py:1565: UndefinedMetricWarning: Precision is ill-defined and being set to 0.0 in labels with no predicted samples. Use `zero_division` parameter to control this behavior.\n",
      "  _warn_prf(average, modifier, f\"{metric.capitalize()} is\", len(result))\n",
      "c:\\Users\\karti\\AppData\\Local\\Programs\\Python\\Python39\\lib\\site-packages\\sklearn\\metrics\\_classification.py:1565: UndefinedMetricWarning: Precision is ill-defined and being set to 0.0 in labels with no predicted samples. Use `zero_division` parameter to control this behavior.\n",
      "  _warn_prf(average, modifier, f\"{metric.capitalize()} is\", len(result))\n",
      "c:\\Users\\karti\\AppData\\Local\\Programs\\Python\\Python39\\lib\\site-packages\\sklearn\\metrics\\_classification.py:1565: UndefinedMetricWarning: Precision is ill-defined and being set to 0.0 in labels with no predicted samples. Use `zero_division` parameter to control this behavior.\n",
      "  _warn_prf(average, modifier, f\"{metric.capitalize()} is\", len(result))\n"
     ]
    },
    {
     "data": {
      "image/png": "[encoded data removed]",
      "text/plain": [
       "<Figure size 640x480 with 1 Axes>"
      ]
     },
     "metadata": {},
     "output_type": "display_data"
    }
   ],
   "source": [
    "import pandas as pd\n",
    "\n",
    "# Load a CSV file (e.g., 2019 Q1)\n",
    "df = pd.read_csv(\"bike_trip_history.csv\")\n",
    "\n",
    "# Convert date fields to datetime\n",
    "df['Start date'] = pd.to_datetime(df['Start date'])\n",
    "df['End date'] = pd.to_datetime(df['End date'])\n",
    "\n",
    "# Clean column names (if needed)\n",
    "df.columns = df.columns.str.strip().str.lower().str.replace(' ', '_')\n",
    "\n",
    "# Drop rows with missing target\n",
    "df = df.dropna(subset=['member_type'])\n",
    "\n",
    "\n",
    "df['duration_min'] = (df['end_date'] - df['start_date']).dt.total_seconds() / 60\n",
    "df['hour'] = df['start_date'].dt.hour\n",
    "df['day_of_week'] = df['start_date'].dt.dayofweek  # 0 = Monday\n",
    "\n",
    "# Optionally drop less informative columns\n",
    "df = df.drop(columns=['start_station', 'end_station', 'bike_number'])\n",
    "\n",
    "from sklearn.model_selection import train_test_split\n",
    "from sklearn.preprocessing import LabelEncoder\n",
    "\n",
    "# Encode target\n",
    "le = LabelEncoder()\n",
    "df['member_type'] = le.fit_transform(df['member_type'])  # 0 = Customer, 1 = Member\n",
    "\n",
    "# Select features\n",
    "features = ['duration_min', 'hour', 'day_of_week']\n",
    "X = df[features]\n",
    "y = df['member_type']\n",
    "\n",
    "# Train/test split\n",
    "X_train, X_test, y_train, y_test = train_test_split(X, y, test_size=0.2, random_state=42)\n",
    "\n",
    "from sklearn.ensemble import RandomForestClassifier\n",
    "from sklearn.metrics import classification_report, confusion_matrix\n",
    "\n",
    "model = RandomForestClassifier(n_estimators=100, random_state=42)\n",
    "model.fit(X_train, y_train)\n",
    "\n",
    "y_pred = model.predict(X_test)\n",
    "\n",
    "# Evaluate\n",
    "print(confusion_matrix(y_test, y_pred))\n",
    "print(classification_report(y_test, y_pred, target_names=le.classes_))\n",
    "\n",
    "\n",
    "import matplotlib.pyplot as plt\n",
    "import seaborn as sns\n",
    "\n",
    "feat_imp = pd.Series(model.feature_importances_, index=features)\n",
    "feat_imp.sort_values().plot(kind='barh', title='Feature Importance')\n",
    "plt.show()\n"
   ]
  }
 ],
 "metadata": {
  "kernelspec": {
   "display_name": "Python 3",
   "language": "python",
   "name": "python3"
  },
  "language_info": {
   "codemirror_mode": {
    "name": "ipython",
    "version": 3
   },
   "file_extension": ".py",
   "mimetype": "text/x-python",
   "name": "python",
   "nbconvert_exporter": "python",
   "pygments_lexer": "ipython3",
   "version": "3.9.11"
  }
 },
 "nbformat": 4,
 "nbformat_minor": 5
}
