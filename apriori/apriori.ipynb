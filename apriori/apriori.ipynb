{
 "cells": [
  {
   "cell_type": "code",
   "execution_count": 3,
   "id": "2991d633",
   "metadata": {},
   "outputs": [
    {
     "name": "stderr",
     "output_type": "stream",
     "text": [
      "C:\\Users\\karti\\AppData\\Local\\Temp\\ipykernel_16972\\464465854.py:27: FutureWarning: DataFrame.applymap has been deprecated. Use DataFrame.map instead.\n",
      "  basket_sets = basket.applymap(encode_units)\n",
      "c:\\Users\\karti\\AppData\\Local\\Programs\\Python\\Python39\\lib\\site-packages\\mlxtend\\frequent_patterns\\fpcommon.py:161: DeprecationWarning: DataFrames with non-bool types result in worse computationalperformance and their support might be discontinued in the future.Please use a DataFrame with bool type\n",
      "  warnings.warn(\n"
     ]
    },
    {
     "name": "stdout",
     "output_type": "stream",
     "text": [
      "Frequent Itemsets:\n",
      "       support                                           itemsets\n",
      "184  0.113160               (WHITE HANGING HEART T-LIGHT HOLDER)\n",
      "79   0.086912                          (JUMBO BAG RED RETROSPOT)\n",
      "149  0.084690                         (REGENCY CAKESTAND 3 TIER)\n",
      "11   0.078083                    (ASSORTED COLOUR BIRD ORNAMENT)\n",
      "123  0.077542                                    (PARTY BUNTING)\n",
      "..        ...                                                ...\n",
      "117  0.020121                     (PAINTED METAL PEARS ASSORTED)\n",
      "221  0.020061  (LUNCH BAG SPACEBOY DESIGN , LUNCH BAG PINK PO...\n",
      "42   0.020061                     (FELTCRAFT PRINCESS LOLA DOLL)\n",
      "222  0.020001  (LUNCH BAG SUKI DESIGN , LUNCH BAG PINK POLKADOT)\n",
      "215  0.020001  (LUNCH BAG APPLE DESIGN, LUNCH BAG RED RETROSPOT)\n",
      "\n",
      "[235 rows x 2 columns]\n",
      "\n",
      "Sample Association Rules:\n",
      "                             antecedents                           consequents  \\\n",
      "0           (ALARM CLOCK BAKELIKE RED )          (ALARM CLOCK BAKELIKE GREEN)   \n",
      "1          (ALARM CLOCK BAKELIKE GREEN)           (ALARM CLOCK BAKELIKE RED )   \n",
      "2  (GARDENERS KNEELING PAD CUP OF TEA )   (GARDENERS KNEELING PAD KEEP CALM )   \n",
      "3   (GARDENERS KNEELING PAD KEEP CALM )  (GARDENERS KNEELING PAD CUP OF TEA )   \n",
      "4      (PINK REGENCY TEACUP AND SAUCER)     (GREEN REGENCY TEACUP AND SAUCER)   \n",
      "\n",
      "    support  confidence       lift  \n",
      "0  0.027269    0.598945  14.451925  \n",
      "1  0.027269    0.657971  14.451925  \n",
      "2  0.027509    0.730463  16.390122  \n",
      "3  0.027509    0.617251  16.390122  \n",
      "4  0.024266    0.819473  22.293137  \n"
     ]
    }
   ],
   "source": [
    "import pandas as pd\n",
    "from mlxtend.frequent_patterns import apriori, association_rules\n",
    "\n",
    "# Load the Online Retail dataset\n",
    "\n",
    "df = pd.read_csv(\"OnlineRetail.csv\",encoding='latin1')\n",
    "\n",
    "# Drop rows with missing values\n",
    "df.dropna(inplace=True)\n",
    "\n",
    "# Filter for transactions from the United Kingdom only (optional)\n",
    "df = df[df['Country'] == 'United Kingdom']\n",
    "\n",
    "# Convert InvoiceNo to string\n",
    "df['InvoiceNo'] = df['InvoiceNo'].astype(str)\n",
    "\n",
    "# Remove canceled transactions (InvoiceNo starting with 'C')\n",
    "df = df[~df['InvoiceNo'].str.startswith('C')]\n",
    "\n",
    "# Create basket (transaction-item matrix)\n",
    "basket = df.groupby(['InvoiceNo', 'Description'])['Quantity'].sum().unstack().fillna(0)\n",
    "\n",
    "# Convert quantities to binary (1 if bought, 0 if not)\n",
    "def encode_units(x):\n",
    "    return 0 if x <= 0 else 1\n",
    "\n",
    "basket_sets = basket.applymap(encode_units)\n",
    "\n",
    "# Apply the Apriori algorithm\n",
    "frequent_itemsets = apriori(basket_sets, min_support=0.02, use_colnames=True)\n",
    "\n",
    "# View the frequent itemsets\n",
    "print(\"Frequent Itemsets:\\n\", frequent_itemsets.sort_values(by=\"support\", ascending=False))\n",
    "\n",
    "# Generate association rules (optional)\n",
    "rules = association_rules(frequent_itemsets, metric=\"lift\", min_threshold=1)\n",
    "print(\"\\nSample Association Rules:\\n\", rules[['antecedents', 'consequents', 'support', 'confidence', 'lift']].head())\n"
   ]
  }
 ],
 "metadata": {
  "kernelspec": {
   "display_name": "Python 3",
   "language": "python",
   "name": "python3"
  },
  "language_info": {
   "codemirror_mode": {
    "name": "ipython",
    "version": 3
   },
   "file_extension": ".py",
   "mimetype": "text/x-python",
   "name": "python",
   "nbconvert_exporter": "python",
   "pygments_lexer": "ipython3",
   "version": "3.9.11"
  }
 },
 "nbformat": 4,
 "nbformat_minor": 5
}
