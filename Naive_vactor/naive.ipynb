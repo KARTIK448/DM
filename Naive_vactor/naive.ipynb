{
 "cells": [
  {
   "cell_type": "code",
   "execution_count": 1,
   "id": "f8e920ba",
   "metadata": {},
   "outputs": [
    {
     "name": "stdout",
     "output_type": "stream",
     "text": [
      "🔎 Precision: 0.94\n",
      "📈 Recall:    0.97\n",
      "🏅 F1 Score:  0.96\n",
      "🔁 Cross-Validation F1 Score (macro avg): 0.99\n"
     ]
    }
   ],
   "source": [
    "from sklearn.datasets import fetch_20newsgroups\n",
    "from sklearn.feature_extraction.text import TfidfVectorizer\n",
    "from sklearn.naive_bayes import GaussianNB\n",
    "from sklearn.model_selection import cross_val_score, train_test_split\n",
    "from sklearn.metrics import precision_score, recall_score, f1_score\n",
    "\n",
    "# Load a sample dataset (can replace with your own)\n",
    "data = fetch_20newsgroups(subset='train', categories=['sci.space', 'rec.sport.hockey'])\n",
    "X_text, y = data.data, data.target\n",
    "\n",
    "# Vectorize using TF-IDF\n",
    "vectorizer = TfidfVectorizer()\n",
    "X_vec = vectorizer.fit_transform(X_text).toarray()  # GaussianNB requires dense input\n",
    "\n",
    "# Split into train and test sets\n",
    "X_train, X_test, y_train, y_test = train_test_split(X_vec, y, test_size=0.2, random_state=42)\n",
    "\n",
    "# Train Gaussian Naive Bayes\n",
    "model = GaussianNB()\n",
    "model.fit(X_train, y_train)\n",
    "\n",
    "# Predict\n",
    "y_pred = model.predict(X_test)\n",
    "\n",
    "# Evaluate\n",
    "precision = precision_score(y_test, y_pred)\n",
    "recall = recall_score(y_test, y_pred)\n",
    "f1 = f1_score(y_test, y_pred)\n",
    "\n",
    "print(f\"🔎 Precision: {precision:.2f}\")\n",
    "print(f\"📈 Recall:    {recall:.2f}\")\n",
    "print(f\"🏅 F1 Score:  {f1:.2f}\")\n",
    "\n",
    "# Cross-validation (5-fold)\n",
    "cv_scores = cross_val_score(model, X_vec, y, cv=5, scoring='f1_macro')\n",
    "print(f\"🔁 Cross-Validation F1 Score (macro avg): {cv_scores.mean():.2f}\")\n"
   ]
  }
 ],
 "metadata": {
  "kernelspec": {
   "display_name": "Python 3",
   "language": "python",
   "name": "python3"
  },
  "language_info": {
   "codemirror_mode": {
    "name": "ipython",
    "version": 3
   },
   "file_extension": ".py",
   "mimetype": "text/x-python",
   "name": "python",
   "nbconvert_exporter": "python",
   "pygments_lexer": "ipython3",
   "version": "3.9.11"
  }
 },
 "nbformat": 4,
 "nbformat_minor": 5
}
