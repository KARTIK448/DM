{
 "cells": [
  {
   "cell_type": "code",
   "execution_count": 1,
   "id": "06c2b10a",
   "metadata": {},
   "outputs": [
    {
     "name": "stderr",
     "output_type": "stream",
     "text": [
      "[nltk_data] Downloading package stopwords to\n",
      "[nltk_data]     C:\\Users\\karti\\AppData\\Roaming\\nltk_data...\n",
      "[nltk_data]   Unzipping corpora\\stopwords.zip.\n"
     ]
    },
    {
     "name": "stdout",
     "output_type": "stream",
     "text": [
      "Classification Report:\n",
      "\n",
      "                       precision    recall  f1-score   support\n",
      "\n",
      "            sci.space       0.74      0.96      0.83       186\n",
      "            rec.autos       0.95      0.81      0.87       221\n",
      "        comp.graphics       0.97      0.83      0.90       206\n",
      "talk.politics.mideast       0.90      0.92      0.91       165\n",
      "\n",
      "             accuracy                           0.88       778\n",
      "            macro avg       0.89      0.88      0.88       778\n",
      "         weighted avg       0.89      0.88      0.88       778\n",
      "\n"
     ]
    }
   ],
   "source": [
    "import nltk\n",
    "import string\n",
    "from nltk.corpus import stopwords\n",
    "from nltk.stem.porter import PorterStemmer\n",
    "from sklearn.datasets import fetch_20newsgroups\n",
    "from sklearn.feature_extraction.text import TfidfVectorizer\n",
    "from sklearn.feature_selection import SelectKBest, chi2\n",
    "from sklearn.model_selection import train_test_split\n",
    "from sklearn.naive_bayes import MultinomialNB\n",
    "from sklearn.metrics import precision_score, recall_score, classification_report\n",
    "\n",
    "\n",
    "nltk.download('stopwords')\n",
    "\n",
    "stemmer = PorterStemmer()\n",
    "stop_words = set(stopwords.words(\"english\"))\n",
    "\n",
    "def preprocess(text):\n",
    "    text = text.lower()                             # Lowercase\n",
    "    text = \"\".join([ch for ch in text if ch not in string.punctuation])  # Remove punctuation\n",
    "    words = text.split()\n",
    "    words = [stemmer.stem(word) for word in words if word not in stop_words]  # Remove stopwords and stem\n",
    "    return \" \".join(words)\n",
    "\n",
    "\n",
    "# Load a subset for faster execution (e.g., 4 categories)\n",
    "categories = ['sci.space', 'rec.autos', 'comp.graphics', 'talk.politics.mideast']\n",
    "data = fetch_20newsgroups(subset='all', categories=categories, remove=('headers', 'footers', 'quotes'))\n",
    "\n",
    "# Apply preprocessing\n",
    "processed_docs = [preprocess(doc) for doc in data.data]\n",
    "\n",
    "\n",
    "# Convert to TF-IDF vectors\n",
    "vectorizer = TfidfVectorizer(max_df=0.5, max_features=5000)\n",
    "X_tfidf = vectorizer.fit_transform(processed_docs)\n",
    "\n",
    "# Apply feature selection using chi-squared test\n",
    "selector = SelectKBest(chi2, k=1000)\n",
    "X_selected = selector.fit_transform(X_tfidf, data.target)\n",
    "\n",
    "\n",
    "X_train, X_test, y_train, y_test = train_test_split(X_selected, data.target, test_size=0.2, random_state=42)\n",
    "\n",
    "# Train classifier\n",
    "model = MultinomialNB()\n",
    "model.fit(X_train, y_train)\n",
    "\n",
    "# Predict\n",
    "y_pred = model.predict(X_test)\n",
    "\n",
    "\n",
    "print(\"Classification Report:\\n\")\n",
    "print(classification_report(y_test, y_pred, target_names=categories))\n"
   ]
  }
 ],
 "metadata": {
  "kernelspec": {
   "display_name": "Python 3",
   "language": "python",
   "name": "python3"
  },
  "language_info": {
   "codemirror_mode": {
    "name": "ipython",
    "version": 3
   },
   "file_extension": ".py",
   "mimetype": "text/x-python",
   "name": "python",
   "nbconvert_exporter": "python",
   "pygments_lexer": "ipython3",
   "version": "3.9.11"
  }
 },
 "nbformat": 4,
 "nbformat_minor": 5
}
