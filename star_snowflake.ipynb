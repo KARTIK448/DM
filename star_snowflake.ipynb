{
 "cells": [
  {
   "cell_type": "code",
   "execution_count": 2,
   "id": "c1592e10",
   "metadata": {},
   "outputs": [],
   "source": [
    "import pandas as pd\n",
    "\n",
    "\n",
    "rides = pd.DataFrame({\n",
    "    'ride_id': [1, 2],\n",
    "    'customer_id': [101, 102],\n",
    "    'driver_id': [201, 202],\n",
    "    'location_id': [301, 302],\n",
    "    'time_id': [401, 402],\n",
    "    'fare': [250, 340]\n",
    "})\n",
    "\n",
    "\n",
    "customers = pd.DataFrame({\n",
    "    'customer_id': [101, 102],\n",
    "    'name': ['Alice', 'Bob'],\n",
    "    'type': ['Regular', 'Premium']\n",
    "})\n",
    "\n",
    "\n",
    "drivers = pd.DataFrame({\n",
    "    'driver_id': [201, 202],\n",
    "    'name': ['John', 'Jane'],\n",
    "    'vehicle': ['Sedan', 'Hatchback']\n",
    "})\n",
    "\n",
    "\n",
    "locations = pd.DataFrame({\n",
    "    'location_id': [301, 302],\n",
    "    'city': ['Mumbai', 'Delhi'],\n",
    "    'state': ['MH', 'DL']\n",
    "})\n",
    "\n",
    "\n",
    "time = pd.DataFrame({\n",
    "    'time_id': [401, 402],\n",
    "    'date': ['2024-04-10', '2024-04-11'],\n",
    "    'hour': [10, 15]\n",
    "})\n"
   ]
  },
  {
   "cell_type": "code",
   "execution_count": 3,
   "id": "3970bcc5",
   "metadata": {},
   "outputs": [
    {
     "name": "stdout",
     "output_type": "stream",
     "text": [
      "   ride_id  customer_id  driver_id  location_id  time_id  fare name_x  \\\n",
      "0        1          101        201          301      401   250  Alice   \n",
      "1        2          102        202          302      402   340    Bob   \n",
      "\n",
      "      type name_y    vehicle    city state        date  hour  \n",
      "0  Regular   John      Sedan  Mumbai    MH  2024-04-10    10  \n",
      "1  Premium   Jane  Hatchback   Delhi    DL  2024-04-11    15  \n"
     ]
    }
   ],
   "source": [
    "star_schema = rides \\\n",
    "    .merge(customers, on='customer_id') \\\n",
    "    .merge(drivers, on='driver_id') \\\n",
    "    .merge(locations, on='location_id') \\\n",
    "    .merge(time, on='time_id')\n",
    "\n",
    "print(star_schema)\n"
   ]
  },
  {
   "cell_type": "code",
   "execution_count": 4,
   "id": "e87f8465",
   "metadata": {},
   "outputs": [],
   "source": [
    "cities = pd.DataFrame({\n",
    "    'city_id': [1, 2],\n",
    "    'city_name': ['Mumbai', 'Delhi'],\n",
    "    'state': ['MH', 'DL']\n",
    "})\n",
    "\n",
    "locations = pd.DataFrame({\n",
    "    'location_id': [301, 302],\n",
    "    'city_id': [1, 2]\n",
    "})\n"
   ]
  },
  {
   "cell_type": "code",
   "execution_count": 5,
   "id": "c6a11631",
   "metadata": {},
   "outputs": [
    {
     "name": "stdout",
     "output_type": "stream",
     "text": [
      "   ride_id  customer_id  driver_id  location_id  time_id  fare customer_name  \\\n",
      "0        1          101        201          301      401   250         Alice   \n",
      "1        2          102        202          302      402   340           Bob   \n",
      "\n",
      "      type driver_name    vehicle  city_id    city state        date  hour  \n",
      "0  Regular        John      Sedan        1  Mumbai    MH  2024-04-10    10  \n",
      "1  Premium        Jane  Hatchback        2   Delhi    DL  2024-04-11    15  \n"
     ]
    }
   ],
   "source": [
    "snowflake_schema = rides \\\n",
    "    .merge(customers, on='customer_id') \\\n",
    "    .merge(drivers, on='driver_id') \\\n",
    "    .merge(locations, on='location_id') \\\n",
    "    .merge(cities, on='city_id') \\\n",
    "    .merge(time, on='time_id')\n",
    "\n",
    "# Rename columns for clarity\n",
    "snowflake_schema.rename(columns={\n",
    "    \"name_x\": \"customer_name\",\n",
    "    \"name_y\": \"driver_name\",\n",
    "    \"city_name\": \"city\"\n",
    "}, inplace=True)\n",
    "\n",
    "print(snowflake_schema)\n"
   ]
  }
 ],
 "metadata": {
  "kernelspec": {
   "display_name": "Python 3",
   "language": "python",
   "name": "python3"
  },
  "language_info": {
   "codemirror_mode": {
    "name": "ipython",
    "version": 3
   },
   "file_extension": ".py",
   "mimetype": "text/x-python",
   "name": "python",
   "nbconvert_exporter": "python",
   "pygments_lexer": "ipython3",
   "version": "3.9.11"
  }
 },
 "nbformat": 4,
 "nbformat_minor": 5
}
