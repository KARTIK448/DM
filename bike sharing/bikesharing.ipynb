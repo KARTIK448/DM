{
 "cells": [
  {
   "cell_type": "code",
   "execution_count": 1,
   "id": "acd5f0ea",
   "metadata": {},
   "outputs": [],
   "source": [
    "import pandas as pd\n",
    "import numpy as np\n",
    "from datetime import datetime"
   ]
  },
  {
   "cell_type": "code",
   "execution_count": 3,
   "id": "6c7fdc3c",
   "metadata": {},
   "outputs": [],
   "source": [
    "df = pd.read_csv(\"bike_trip_history_sample.csv\")  # Replace with your file path\n",
    "\n",
    "# --- 1. Handle Missing Values ---\n",
    "# Drop rows with missing start or end time (critical)\n",
    "df.dropna(subset=['start_time', 'end_time'], inplace=True)\n",
    "\n",
    "# Fill missing gender with 'Unknown'\n",
    "df['gender'] = df['gender'].fillna('Unknown')\n",
    "\n",
    "# Fill missing birth_year with median\n",
    "df['birth_year'] = df['birth_year'].fillna(df['birth_year'].median())\n",
    "\n",
    "# --- 2. Convert start_time and end_time to datetime ---\n",
    "df['start_time'] = pd.to_datetime(df['start_time'])\n",
    "df['end_time'] = pd.to_datetime(df['end_time'])\n",
    "\n",
    "# --- 3. Trip Duration (in minutes) ---\n",
    "df['trip_duration'] = (df['end_time'] - df['start_time']).dt.total_seconds() / 60\n",
    "\n",
    "# --- 4. Extract Time Features ---\n",
    "df['start_hour'] = df['start_time'].dt.hour\n",
    "df['day_of_week'] = df['start_time'].dt.day_name()\n",
    "df['month'] = df['start_time'].dt.month"
   ]
  },
  {
   "cell_type": "code",
   "execution_count": 4,
   "id": "050f5f99",
   "metadata": {},
   "outputs": [
    {
     "name": "stdout",
     "output_type": "stream",
     "text": [
      "           start_time            end_time start_station end_station  \\\n",
      "0 2025-04-22 12:00:00 2025-04-22 12:10:00     Station B   Station F   \n",
      "1 2025-04-02 04:00:00 2025-04-02 04:22:00     Station B   Station F   \n",
      "2 2025-04-07 20:00:00 2025-04-07 20:55:00     Station B   Station F   \n",
      "3 2025-04-18 13:00:00 2025-04-18 13:09:00     Station C   Station F   \n",
      "4 2025-04-15 02:00:00 2025-04-15 02:51:00     Station C   Station F   \n",
      "\n",
      "    user_type  birth_year  gender  trip_duration  start_hour day_of_week  \\\n",
      "0    Customer        1992  Female           10.0          12     Tuesday   \n",
      "1  Subscriber        1984   Other           22.0           4   Wednesday   \n",
      "2  Subscriber        1976    Male           55.0          20      Monday   \n",
      "3    Customer        1992    Male            9.0          13      Friday   \n",
      "4    Customer        1961   Other           51.0           2     Tuesday   \n",
      "\n",
      "   month duration_bin  age age_group peak_hour  \n",
      "0      4        Short   33     Adult        No  \n",
      "1      4       Medium   41     Adult        No  \n",
      "2      4         Long   49    Senior        No  \n",
      "3      4        Short   33     Adult        No  \n",
      "4      4         Long   64    Senior        No  \n"
     ]
    }
   ],
   "source": [
    "def duration_bin(minutes):\n",
    "    if minutes <= 10:\n",
    "        return \"Short\"\n",
    "    elif minutes <= 30:\n",
    "        return \"Medium\"\n",
    "    else:\n",
    "        return \"Long\"\n",
    "\n",
    "df['duration_bin'] = df['trip_duration'].apply(duration_bin)\n",
    "\n",
    "# --- 6. Calculate Age & Age Group ---\n",
    "current_year = datetime.now().year\n",
    "df['age'] = current_year - df['birth_year'].astype(int)\n",
    "\n",
    "def age_group(age):\n",
    "    if age < 25:\n",
    "        return \"Young\"\n",
    "    elif age <= 45:\n",
    "        return \"Adult\"\n",
    "    else:\n",
    "        return \"Senior\"\n",
    "\n",
    "df['age_group'] = df['age'].apply(age_group)\n",
    "\n",
    "# --- 7. Peak Hour Feature (7-9AM and 5-7PM) ---\n",
    "def is_peak_hour(hour):\n",
    "    return hour in [7, 8, 17, 18]\n",
    "\n",
    "df['peak_hour'] = df['start_hour'].apply(lambda h: 'Yes' if is_peak_hour(h) else 'No')\n",
    "\n",
    "# --- 8. Drop Unnecessary Columns (Optional) ---\n",
    "df.drop(columns=['trip_id', 'bike_id'], errors='ignore', inplace=True)\n",
    "\n",
    "# --- 9. Save Cleaned Data ---\n",
    "df.to_csv(\"cleaned_bike_trip_data.csv\", index=False)\n",
    "\n",
    "# Preview\n",
    "print(df.head())"
   ]
  }
 ],
 "metadata": {
  "kernelspec": {
   "display_name": "Python 3",
   "language": "python",
   "name": "python3"
  },
  "language_info": {
   "codemirror_mode": {
    "name": "ipython",
    "version": 3
   },
   "file_extension": ".py",
   "mimetype": "text/x-python",
   "name": "python",
   "nbconvert_exporter": "python",
   "pygments_lexer": "ipython3",
   "version": "3.9.11"
  }
 },
 "nbformat": 4,
 "nbformat_minor": 5
}
